{
 "cells": [
  {
   "cell_type": "markdown",
   "metadata": {},
   "source": [
    "# <center>Đồ án 3: Linear Regression</center>"
   ]
  },
  {
   "cell_type": "markdown",
   "metadata": {},
   "source": [
    "# Thông tin sinh viên\n",
    "\n",
    "- Họ và tên: Mai Quý Trung\n",
    "- MSSV: 20127370\n",
    "- Lớp: 20CLC11"
   ]
  },
  {
   "cell_type": "markdown",
   "metadata": {},
   "source": [
    "# Import"
   ]
  },
  {
   "cell_type": "code",
   "execution_count": 14,
   "metadata": {},
   "outputs": [],
   "source": [
    "import pandas as pd\n",
    "import numpy as np\n",
    "from sklearn import model_selection"
   ]
  },
  {
   "cell_type": "markdown",
   "metadata": {},
   "source": [
    "# Đọc dữ liệu"
   ]
  },
  {
   "cell_type": "code",
   "execution_count": 15,
   "metadata": {},
   "outputs": [],
   "source": [
    "# Đọc dữ liệu bằng pandas\n",
    "train = pd.read_csv('train.csv')\n",
    "test = pd.read_csv('test.csv')\n",
    "\n",
    "# Lấy các đặc trưng X và giá trị mục tiêu y cho các tập huấn luyện (train) và kiểm tra (test)\n",
    "X_train = train.iloc[:, :-1]    # Dataframe (chứa 10 đặc trưng huấn luyện)\n",
    "y_train = train.iloc[:, -1]     # Series    (chứa 1 giá trị mục tiêu kiểm tra)\n",
    "\n",
    "X_test = test.iloc[:, :-1]      # Dataframe (chứa 10 đặc trưng kiểm tra)\n",
    "y_test = test.iloc[:, -1]       # Series    (chứa 1 giá trị mục tiêu kiểm tra)\n",
    "\n",
    "# Sinh viên có thể sử dụng các khác nếu cần"
   ]
  },
  {
   "cell_type": "code",
   "execution_count": 16,
   "metadata": {},
   "outputs": [
    {
     "name": "stdout",
     "output_type": "stream",
     "text": [
      "Training file:\n"
     ]
    },
    {
     "data": {
      "text/html": [
       "<div>\n",
       "<style scoped>\n",
       "    .dataframe tbody tr th:only-of-type {\n",
       "        vertical-align: middle;\n",
       "    }\n",
       "\n",
       "    .dataframe tbody tr th {\n",
       "        vertical-align: top;\n",
       "    }\n",
       "\n",
       "    .dataframe thead th {\n",
       "        text-align: right;\n",
       "    }\n",
       "</style>\n",
       "<table border=\"1\" class=\"dataframe\">\n",
       "  <thead>\n",
       "    <tr style=\"text-align: right;\">\n",
       "      <th></th>\n",
       "      <th>Adult Mortality</th>\n",
       "      <th>BMI</th>\n",
       "      <th>Polio</th>\n",
       "      <th>Diphtheria</th>\n",
       "      <th>HIV/AIDS</th>\n",
       "      <th>GDP</th>\n",
       "      <th>Thinness age 10-19</th>\n",
       "      <th>Thinness age 5-9</th>\n",
       "      <th>Income composition of resources</th>\n",
       "      <th>Schooling</th>\n",
       "      <th>Life expectancy</th>\n",
       "    </tr>\n",
       "  </thead>\n",
       "  <tbody>\n",
       "    <tr>\n",
       "      <th>0</th>\n",
       "      <td>268.0</td>\n",
       "      <td>18.1</td>\n",
       "      <td>62.0</td>\n",
       "      <td>64.0</td>\n",
       "      <td>0.1</td>\n",
       "      <td>631.744976</td>\n",
       "      <td>17.7</td>\n",
       "      <td>17.7</td>\n",
       "      <td>0.470</td>\n",
       "      <td>9.9</td>\n",
       "      <td>59.9</td>\n",
       "    </tr>\n",
       "    <tr>\n",
       "      <th>1</th>\n",
       "      <td>272.0</td>\n",
       "      <td>17.6</td>\n",
       "      <td>67.0</td>\n",
       "      <td>67.0</td>\n",
       "      <td>0.1</td>\n",
       "      <td>669.959000</td>\n",
       "      <td>17.9</td>\n",
       "      <td>18.0</td>\n",
       "      <td>0.463</td>\n",
       "      <td>9.8</td>\n",
       "      <td>59.5</td>\n",
       "    </tr>\n",
       "    <tr>\n",
       "      <th>2</th>\n",
       "      <td>275.0</td>\n",
       "      <td>17.2</td>\n",
       "      <td>68.0</td>\n",
       "      <td>68.0</td>\n",
       "      <td>0.1</td>\n",
       "      <td>63.537231</td>\n",
       "      <td>18.2</td>\n",
       "      <td>18.2</td>\n",
       "      <td>0.454</td>\n",
       "      <td>9.5</td>\n",
       "      <td>59.2</td>\n",
       "    </tr>\n",
       "    <tr>\n",
       "      <th>3</th>\n",
       "      <td>279.0</td>\n",
       "      <td>16.7</td>\n",
       "      <td>66.0</td>\n",
       "      <td>66.0</td>\n",
       "      <td>0.1</td>\n",
       "      <td>553.328940</td>\n",
       "      <td>18.4</td>\n",
       "      <td>18.4</td>\n",
       "      <td>0.448</td>\n",
       "      <td>9.2</td>\n",
       "      <td>58.8</td>\n",
       "    </tr>\n",
       "    <tr>\n",
       "      <th>4</th>\n",
       "      <td>281.0</td>\n",
       "      <td>16.2</td>\n",
       "      <td>63.0</td>\n",
       "      <td>63.0</td>\n",
       "      <td>0.1</td>\n",
       "      <td>445.893298</td>\n",
       "      <td>18.6</td>\n",
       "      <td>18.7</td>\n",
       "      <td>0.434</td>\n",
       "      <td>8.9</td>\n",
       "      <td>58.6</td>\n",
       "    </tr>\n",
       "  </tbody>\n",
       "</table>\n",
       "</div>"
      ],
      "text/plain": [
       "   Adult Mortality   BMI  Polio  Diphtheria  HIV/AIDS         GDP  \\\n",
       "0            268.0  18.1   62.0        64.0       0.1  631.744976   \n",
       "1            272.0  17.6   67.0        67.0       0.1  669.959000   \n",
       "2            275.0  17.2   68.0        68.0       0.1   63.537231   \n",
       "3            279.0  16.7   66.0        66.0       0.1  553.328940   \n",
       "4            281.0  16.2   63.0        63.0       0.1  445.893298   \n",
       "\n",
       "   Thinness age 10-19  Thinness age 5-9  Income composition of resources  \\\n",
       "0                17.7              17.7                            0.470   \n",
       "1                17.9              18.0                            0.463   \n",
       "2                18.2              18.2                            0.454   \n",
       "3                18.4              18.4                            0.448   \n",
       "4                18.6              18.7                            0.434   \n",
       "\n",
       "   Schooling  Life expectancy  \n",
       "0        9.9             59.9  \n",
       "1        9.8             59.5  \n",
       "2        9.5             59.2  \n",
       "3        9.2             58.8  \n",
       "4        8.9             58.6  "
      ]
     },
     "execution_count": 16,
     "metadata": {},
     "output_type": "execute_result"
    }
   ],
   "source": [
    "print(\"Training file:\")\n",
    "train.head()"
   ]
  },
  {
   "cell_type": "code",
   "execution_count": 17,
   "metadata": {},
   "outputs": [
    {
     "name": "stdout",
     "output_type": "stream",
     "text": [
      "Testing file:\n"
     ]
    },
    {
     "data": {
      "text/html": [
       "<div>\n",
       "<style scoped>\n",
       "    .dataframe tbody tr th:only-of-type {\n",
       "        vertical-align: middle;\n",
       "    }\n",
       "\n",
       "    .dataframe tbody tr th {\n",
       "        vertical-align: top;\n",
       "    }\n",
       "\n",
       "    .dataframe thead th {\n",
       "        text-align: right;\n",
       "    }\n",
       "</style>\n",
       "<table border=\"1\" class=\"dataframe\">\n",
       "  <thead>\n",
       "    <tr style=\"text-align: right;\">\n",
       "      <th></th>\n",
       "      <th>Adult Mortality</th>\n",
       "      <th>BMI</th>\n",
       "      <th>Polio</th>\n",
       "      <th>Diphtheria</th>\n",
       "      <th>HIV/AIDS</th>\n",
       "      <th>GDP</th>\n",
       "      <th>Thinness age 10-19</th>\n",
       "      <th>Thinness age 5-9</th>\n",
       "      <th>Income composition of resources</th>\n",
       "      <th>Schooling</th>\n",
       "      <th>Life expectancy</th>\n",
       "    </tr>\n",
       "  </thead>\n",
       "  <tbody>\n",
       "    <tr>\n",
       "      <th>0</th>\n",
       "      <td>263.0</td>\n",
       "      <td>19.1</td>\n",
       "      <td>6.0</td>\n",
       "      <td>65.0</td>\n",
       "      <td>0.1</td>\n",
       "      <td>584.259210</td>\n",
       "      <td>17.2</td>\n",
       "      <td>17.3</td>\n",
       "      <td>0.479</td>\n",
       "      <td>10.1</td>\n",
       "      <td>65.0</td>\n",
       "    </tr>\n",
       "    <tr>\n",
       "      <th>1</th>\n",
       "      <td>271.0</td>\n",
       "      <td>18.6</td>\n",
       "      <td>58.0</td>\n",
       "      <td>62.0</td>\n",
       "      <td>0.1</td>\n",
       "      <td>612.696514</td>\n",
       "      <td>17.5</td>\n",
       "      <td>17.5</td>\n",
       "      <td>0.476</td>\n",
       "      <td>10.0</td>\n",
       "      <td>59.9</td>\n",
       "    </tr>\n",
       "    <tr>\n",
       "      <th>2</th>\n",
       "      <td>74.0</td>\n",
       "      <td>58.0</td>\n",
       "      <td>99.0</td>\n",
       "      <td>99.0</td>\n",
       "      <td>0.1</td>\n",
       "      <td>3954.227830</td>\n",
       "      <td>1.2</td>\n",
       "      <td>1.3</td>\n",
       "      <td>0.762</td>\n",
       "      <td>14.2</td>\n",
       "      <td>77.8</td>\n",
       "    </tr>\n",
       "    <tr>\n",
       "      <th>3</th>\n",
       "      <td>8.0</td>\n",
       "      <td>57.2</td>\n",
       "      <td>98.0</td>\n",
       "      <td>98.0</td>\n",
       "      <td>0.1</td>\n",
       "      <td>4575.763787</td>\n",
       "      <td>1.2</td>\n",
       "      <td>1.3</td>\n",
       "      <td>0.761</td>\n",
       "      <td>14.2</td>\n",
       "      <td>77.5</td>\n",
       "    </tr>\n",
       "    <tr>\n",
       "      <th>4</th>\n",
       "      <td>11.0</td>\n",
       "      <td>58.4</td>\n",
       "      <td>95.0</td>\n",
       "      <td>95.0</td>\n",
       "      <td>0.1</td>\n",
       "      <td>547.851700</td>\n",
       "      <td>6.0</td>\n",
       "      <td>5.8</td>\n",
       "      <td>0.741</td>\n",
       "      <td>14.4</td>\n",
       "      <td>75.4</td>\n",
       "    </tr>\n",
       "  </tbody>\n",
       "</table>\n",
       "</div>"
      ],
      "text/plain": [
       "   Adult Mortality   BMI  Polio  Diphtheria  HIV/AIDS          GDP  \\\n",
       "0            263.0  19.1    6.0        65.0       0.1   584.259210   \n",
       "1            271.0  18.6   58.0        62.0       0.1   612.696514   \n",
       "2             74.0  58.0   99.0        99.0       0.1  3954.227830   \n",
       "3              8.0  57.2   98.0        98.0       0.1  4575.763787   \n",
       "4             11.0  58.4   95.0        95.0       0.1   547.851700   \n",
       "\n",
       "   Thinness age 10-19  Thinness age 5-9  Income composition of resources  \\\n",
       "0                17.2              17.3                            0.479   \n",
       "1                17.5              17.5                            0.476   \n",
       "2                 1.2               1.3                            0.762   \n",
       "3                 1.2               1.3                            0.761   \n",
       "4                 6.0               5.8                            0.741   \n",
       "\n",
       "   Schooling  Life expectancy  \n",
       "0       10.1             65.0  \n",
       "1       10.0             59.9  \n",
       "2       14.2             77.8  \n",
       "3       14.2             77.5  \n",
       "4       14.4             75.4  "
      ]
     },
     "execution_count": 17,
     "metadata": {},
     "output_type": "execute_result"
    }
   ],
   "source": [
    "print(\"Testing file:\")\n",
    "test.head()"
   ]
  },
  {
   "cell_type": "markdown",
   "metadata": {},
   "source": [
    "# Cài đặt hàm"
   ]
  },
  {
   "cell_type": "code",
   "execution_count": 18,
   "metadata": {},
   "outputs": [],
   "source": [
    "# Cài đặt các hàm cần thiết ở đây\n",
    "class OLSLinearRegression:\n",
    "    def fit(self, X, y):\n",
    "        X_pinv = np.linalg.inv(X.T @ X) @ X.T\n",
    "        self.w = X_pinv @ y\n",
    "        return self\n",
    "\n",
    "    def get_params(self):\n",
    "        return self.w\n",
    "\n",
    "    def predict(self, X):\n",
    "        return np.sum(self.w.ravel() * X, axis=1)  \n",
    "\n",
    "def model_mse(y_test, y_pred):\n",
    "    return np.mean((y_test.ravel() - y_pred.ravel())**2)\n",
    "\n",
    "def model_rmse(y_test, y_pred):\n",
    "    return np.sqrt(model_mse(y_test, y_pred))\n"
   ]
  },
  {
   "cell_type": "markdown",
   "metadata": {},
   "source": [
    "# Yêu cầu 1a: Sử dụng toàn bộ 10 đặc trưng đề bài cung cấp (2 điểm) "
   ]
  },
  {
   "cell_type": "code",
   "execution_count": 19,
   "metadata": {},
   "outputs": [],
   "source": [
    "# Phần code cho yêu cầu 1a\n",
    "def train_all_feature(X_train, y_train, X_test):\n",
    "    w = OLSLinearRegression().fit(X_train, y_train)\n",
    "    y_pred = w.predict(X_test)\n",
    "    return y_pred, w"
   ]
  },
  {
   "cell_type": "code",
   "execution_count": 20,
   "metadata": {},
   "outputs": [
    {
     "name": "stdout",
     "output_type": "stream",
     "text": [
      "Weight:\n",
      " [[ 1.51013627e-02]\n",
      " [ 9.02199807e-02]\n",
      " [ 4.29218175e-02]\n",
      " [ 1.39289117e-01]\n",
      " [-5.67332827e-01]\n",
      " [-1.00765115e-04]\n",
      " [ 7.40713438e-01]\n",
      " [ 1.90935798e-01]\n",
      " [ 2.45059736e+01]\n",
      " [ 2.39351661e+00]] \n",
      "RMSE: 7.0640464305843516\n"
     ]
    }
   ],
   "source": [
    "# Gọi hàm RMSE (tự cài đặt hoặc từ thư viện) trên tập kiểm tra\n",
    "def task_1a(X_train, y_train, X_test, y_test):\n",
    "    y_pred, w = train_all_feature(X_train, y_train, X_test)\n",
    "    return model_rmse(y_test, y_pred), np.array(w.get_params()).reshape(-1, 1)\n",
    "\n",
    "rmse, w = task_1a(X_train.to_numpy(), y_train.to_numpy(), X_test.to_numpy(), y_test.to_numpy())\n",
    "print(\"Weight:\\n\", w, \"\\nRMSE:\", rmse)"
   ]
  },
  {
   "cell_type": "markdown",
   "metadata": {},
   "source": [
    "Công thức hồi quy\n",
    "\n",
    "$$\\text{Life expectancy} = 0.0151013627 * \\text{(Adult Mortality)} + 0.0902199807 * \\text{(BMI)} \\\\+ 0.0429218175 * \\text{(Polio)} + 0.139289117 * \\text{(Diphtheria)} \\\\ - 0.567332827 * \\text{(HIV/AIDS)} - 0.000100765115 * \\text{(GDP)} \\\\+ 0.740713438 * \\text{(Thinness age 10-19)} + 0.190935798 * \\text{(Thinness age 5-9)} \\\\+ 24.5059736 * \\text{(Income composition of resources)} + 2.39351661 * \\text{(Schooling)}"
   ]
  },
  {
   "cell_type": "markdown",
   "metadata": {},
   "source": [
    "# Yêu cầu 1b: Xây dựng mô hình sử dụng duy nhất 1 đặc trưng, tìm mô hình cho kết quả tốt nhất (2 điểm)"
   ]
  },
  {
   "cell_type": "markdown",
   "metadata": {},
   "source": [
    "Lưu ý: khi sử dụng cross-validation, sinh viên cần xáo trộn dữ liệu 1 lần duy nhất và thực hiện trên toàn bộ đặc trưng"
   ]
  },
  {
   "cell_type": "code",
   "execution_count": 21,
   "metadata": {},
   "outputs": [],
   "source": [
    "# Phần code cho yêu cầu 1b\n",
    "# Tìm ra đặc trưng tốt nhất\n",
    "# In ra các kết quả cross-validation như yêu cầu\n",
    "category = [\"Adult Mortality\", \"BMI\", \"Polio\", \"Diphtheria\", \"HIV/AIDS\", \"GDP\", \"Thinness age 10-19\", \"Thinness age 5-9\", \"Income composition of resources\", \"Schooling\", \"Life expectancy\"]\n",
    "\n",
    "def task_1b(train, fold = 5):\n",
    "\n",
    "    w_arr = np.zeros(train.shape[1] - 1)\n",
    "    rmse_arr = np.zeros(train.shape[1] - 1)\n",
    "    shuffle_data =  model_selection.KFold(n_splits=fold, shuffle=True)\n",
    "\n",
    "    for train_split, test_split in shuffle_data.split(train):\n",
    "\n",
    "        idx = 0\n",
    "        \n",
    "        for column in category:\n",
    "\n",
    "            if column != 'Life expectancy':\n",
    "                \n",
    "                feature_train = train.iloc[train_split].loc[:,[column]]\n",
    "                label_train = train.iloc[train_split].loc[:,['Life expectancy']]\n",
    "\n",
    "                feature_test = train.iloc[test_split].loc[:,[column]]\n",
    "                label_test = train.iloc[test_split].loc[:,['Life expectancy']]\n",
    "                    \n",
    "                rmse, w = task_1a(feature_train.to_numpy(), label_train.to_numpy(), feature_test.to_numpy(), label_test.to_numpy())\n",
    "\n",
    "                rmse_arr[idx] += rmse\n",
    "                w_arr[idx] += w\n",
    "                idx += 1\n",
    "\n",
    "    w_arr /= fold\n",
    "    rmse_arr /= fold\n",
    "\n",
    "    print('RMSE:\\n', rmse_arr.reshape(-1, 1))\n",
    "    print('Weight:\\n', w_arr.reshape(-1, 1))\n",
    "\n",
    "    return rmse_arr, category[np.argmin(rmse_arr)]"
   ]
  },
  {
   "cell_type": "code",
   "execution_count": 22,
   "metadata": {},
   "outputs": [
    {
     "name": "stdout",
     "output_type": "stream",
     "text": [
      "RMSE:\n",
      " [[46.20269332]\n",
      " [27.91251384]\n",
      " [17.93853784]\n",
      " [16.06936343]\n",
      " [67.0583796 ]\n",
      " [60.20524097]\n",
      " [52.04589701]\n",
      " [51.8434712 ]\n",
      " [13.20208735]\n",
      " [11.7866964 ]]\n",
      "Weight:\n",
      " [[2.47765822e-01]\n",
      " [1.50581054e+00]\n",
      " [7.85637083e-01]\n",
      " [7.84449459e-01]\n",
      " [3.58466887e+00]\n",
      " [3.02679343e-03]\n",
      " [6.94583391e+00]\n",
      " [6.88993932e+00]\n",
      " [1.04706096e+02]\n",
      " [5.55741166e+00]]\n",
      "Min RMSE: 11.78669639939751 \n",
      "Best feature: Schooling\n"
     ]
    }
   ],
   "source": [
    "rmse, best_1b = task_1b(train)\n",
    "print('Min RMSE:', np.min(rmse), '\\nBest feature:', best_1b)\n"
   ]
  },
  {
   "cell_type": "code",
   "execution_count": 23,
   "metadata": {},
   "outputs": [
    {
     "name": "stdout",
     "output_type": "stream",
     "text": [
      "New RMSE: 10.26095039165537 \n",
      "New Weight: [[5.5573994]]\n"
     ]
    }
   ],
   "source": [
    "# Gọi hàm RMSE (tự cài đặt hoặc từ thư viện) trên tập kiểm tra với mô hình best_feature_model\n",
    "feature_train_1b = train.loc[:, [best_1b]]\n",
    "feature_test_1b = test.loc[:, [best_1b]]\n",
    "\n",
    "rmse_1b, w_1b = task_1a(feature_train_1b.to_numpy(), y_train.to_numpy(), feature_test_1b.to_numpy(), y_test.to_numpy())\n",
    "print(\"New RMSE:\", rmse_1b, '\\nNew Weight:', w_1b)"
   ]
  },
  {
   "cell_type": "markdown",
   "metadata": {},
   "source": [
    "Công thức hồi quy\n",
    "\n",
    "$$\\text{Life expectancy} = 5.5573994 * \\text{(Schooling)}"
   ]
  },
  {
   "cell_type": "markdown",
   "metadata": {},
   "source": [
    "# Yêu cầu 1c: Sinh viên tự xây dựng mô hình, tìm mô hình cho kết quả tốt nhất (3 điểm)"
   ]
  },
  {
   "cell_type": "markdown",
   "metadata": {},
   "source": [
    "Lưu ý: khi sử dụng cross-validation, sinh viên cần xáo trộn dữ liệu 1 lần duy nhất và thực hiện trên toàn bộ $m$ mô hình mà sinh viên thiết kế"
   ]
  },
  {
   "cell_type": "code",
   "execution_count": 24,
   "metadata": {},
   "outputs": [
    {
     "name": "stdout",
     "output_type": "stream",
     "text": [
      "RMSE:\n",
      " [[ 8.32959999]\n",
      " [11.15332909]\n",
      " [15.59313433]\n",
      " [ 6.90659883]\n",
      " [13.68429193]\n",
      " [19.12347377]\n",
      " [24.49011507]]\n",
      "Weight:\n",
      " [[ 7.86991922e-01  5.40719301e-02  1.57832699e-01  1.30347306e-01\n",
      "   2.93232326e+01  2.30170242e+00  0.00000000e+00  0.00000000e+00\n",
      "   0.00000000e+00  0.00000000e+00]\n",
      " [ 1.10603309e-02 -4.13243269e-04 -2.15027181e-01  5.76191531e+00\n",
      "   0.00000000e+00  0.00000000e+00  0.00000000e+00  0.00000000e+00\n",
      "   0.00000000e+00  0.00000000e+00]\n",
      " [ 4.44798658e-01  1.21418769e-04  5.83154354e-01  0.00000000e+00\n",
      "   0.00000000e+00  0.00000000e+00  0.00000000e+00  0.00000000e+00\n",
      "   0.00000000e+00  0.00000000e+00]\n",
      " [ 9.25996429e+00 -2.76796991e-01  0.00000000e+00  0.00000000e+00\n",
      "   0.00000000e+00  0.00000000e+00  0.00000000e+00  0.00000000e+00\n",
      "   0.00000000e+00  0.00000000e+00]\n",
      " [ 1.04797760e-04  1.49018306e-03  9.50139326e-04  2.89801778e-03\n",
      "  -2.57367892e-02 -5.10932568e-09  5.40335332e-02  1.09159211e-02\n",
      "   5.35380307e+01  3.88399412e-02]\n",
      " [ 2.27912740e-07  2.49567860e-05  1.28563069e-05  4.43808661e-05\n",
      "  -7.24295454e-04 -1.00331642e-13  2.62321380e-03  4.04373850e-04\n",
      "   6.37177940e+01 -5.37586102e-04]\n",
      " [ 3.86380174e-01  0.00000000e+00  0.00000000e+00  0.00000000e+00\n",
      "   0.00000000e+00  0.00000000e+00  0.00000000e+00  0.00000000e+00\n",
      "   0.00000000e+00  0.00000000e+00]]\n",
      "My best model: 4\n",
      "      Schooling  Schooling  Life expectancy\n",
      "0           9.9      98.01             59.9\n",
      "1           9.8      96.04             59.5\n",
      "2           9.5      90.25             59.2\n",
      "3           9.2      84.64             58.8\n",
      "4           8.9      79.21             58.6\n",
      "...         ...        ...              ...\n",
      "1080        9.2      84.64             44.3\n",
      "1081        9.5      90.25             44.5\n",
      "1082       10.0     100.00             44.8\n",
      "1083        9.8      96.04             45.3\n",
      "1084        9.8      96.04             46.0\n",
      "\n",
      "[1085 rows x 3 columns]\n"
     ]
    }
   ],
   "source": [
    "# Phần code cho yêu cầu 1c\n",
    "# Tìm ra mô hình tốt nhất (tự thiết kế bởi sinh viên)\n",
    "# In ra các kết quả cross-validation như yêu cầu\n",
    "# ['BMI', 'Polio', \"Diphtheria\", \"HIV/AIDS\", 'GDP', 'Schooling', 'Life expectancy']\n",
    "m = 7\n",
    "\n",
    "def build_data(train_data, opt):\n",
    "    if opt == 0:\n",
    "        return train_data.loc[:, [\"Thinness age 10-19\", \"Polio\", \"Diphtheria\", \"Thinness age 5-9\", \"Income composition of resources\", \"Schooling\", \"Life expectancy\"]]\n",
    "    if opt == 1:\n",
    "        return train_data.loc[:, [\"BMI\", \"GDP\", \"HIV/AIDS\", \"Schooling\", \"Life expectancy\"]]\n",
    "    if opt == 2:\n",
    "        return train_data.loc[:, [\"BMI\", \"GDP\", \"Polio\", \"Life expectancy\"]]\n",
    "    if opt == 3:\n",
    "        return pd.concat([train_data.loc[:, ['Schooling']], pd.DataFrame([[data[i] ** 2 if i != 1 else data[i] for i in range(2)] for data in ((train_data.loc[:, ['Schooling', 'Life expectancy']]).to_numpy())], columns = ['Schooling', 'Life expectancy'])], axis=1, join='inner')\n",
    "    if opt == 4:\n",
    "        return pd.DataFrame([[data[i] ** 2 if i != 10 else data[i] for i in range(train_data.shape[1])] for data in train_data.to_numpy()], columns = category)\n",
    "    if opt == 5:\n",
    "        return pd.DataFrame([[data[i] ** 3 if i != 10 else data[i] for i in range(train_data.shape[1])] for data in train_data.to_numpy()], columns = category)\n",
    "    if opt == 6:\n",
    "        return pd.DataFrame([[data[i] ** 2 if i != 1 else data[i] for i in range(2)] for data in ((train_data.loc[:, ['Schooling', 'Life expectancy']]).to_numpy())], columns = ['Schooling', 'Life expectancy'])\n",
    "    else:\n",
    "        return train_data\n",
    "\n",
    "def task_1c(train, fold = 5):\n",
    "\n",
    "    w_arr = np.zeros((m, 10))\n",
    "    rmse_arr = np.zeros((m, 1))\n",
    "    shuffle_data =  model_selection.KFold(n_splits=fold, shuffle=True)\n",
    "\n",
    "    for train_split, test_split in shuffle_data.split(train):\n",
    "    \n",
    "        for idx in range(m):\n",
    "\n",
    "            model = build_data(train, idx)\n",
    "\n",
    "            feature_train = model.iloc[train_split].iloc[:, :-1]\n",
    "            label_train = model.iloc[train_split].loc[:,['Life expectancy']]\n",
    "\n",
    "            feature_test = model.iloc[test_split].iloc[:, :-1]\n",
    "            label_test = model.iloc[test_split].loc[:,['Life expectancy']]\n",
    "                            \n",
    "            rmse, w = task_1a(feature_train.to_numpy(), label_train.to_numpy(), feature_test.to_numpy(), label_test.to_numpy())\n",
    "\n",
    "            for _ in range(10 - len(w)):\n",
    "                w = np.append(w, float(0))\n",
    "\n",
    "            rmse_arr[idx] += rmse\n",
    "            w_arr[idx] += w.reshape(-1)\n",
    "            \n",
    "    w_arr /= fold\n",
    "    rmse_arr /= fold\n",
    "\n",
    "    print('RMSE:\\n', rmse_arr)\n",
    "    print('Weight:\\n', w_arr)\n",
    "    return rmse_arr, np.argmin(rmse_arr)\n",
    "\n",
    "rmse_arr, best_1c = task_1c(train)\n",
    "print(\"My best model:\", best_1c + 1)\n",
    "print(build_data(train, best_1c))\n"
   ]
  },
  {
   "cell_type": "code",
   "execution_count": 25,
   "metadata": {},
   "outputs": [],
   "source": [
    "# Huấn luyện lại mô hình my_best_model trên toàn bộ tập huấn luyện\n",
    "feature_train_1c = build_data(train, best_1c).iloc[:, :-1]\n",
    "feature_test_1c = build_data(test, best_1c).iloc[:, :-1]\n",
    "\n",
    "rmse_1c, w_1c = task_1a(feature_train_1c.to_numpy(), y_train.to_numpy(), feature_test_1c.to_numpy(), y_test.to_numpy())"
   ]
  },
  {
   "cell_type": "code",
   "execution_count": 26,
   "metadata": {},
   "outputs": [
    {
     "name": "stdout",
     "output_type": "stream",
     "text": [
      "New Weight: [[ 9.25853343]\n",
      " [-0.27667035]] \n",
      "New RMSE: 5.9986721709342445\n"
     ]
    }
   ],
   "source": [
    "# Gọi hàm RMSE (tự cài đặt hoặc từ thư viện) trên tập kiểm tra với mô hình my_best_model\n",
    "print('New Weight:', w_1c, '\\nNew RMSE:', rmse_1c)"
   ]
  },
  {
   "cell_type": "markdown",
   "metadata": {},
   "source": [
    "Công thức hồi quy\n",
    "\n",
    "$$\\text{Life expectancy} = 9.25853343 * \\text{(Schooling)} - 0.27667035 * \\text{(Schooling} ^ 2)"
   ]
  }
 ],
 "metadata": {
  "kernelspec": {
   "display_name": "Python 3.10.4 64-bit",
   "language": "python",
   "name": "python3"
  },
  "language_info": {
   "codemirror_mode": {
    "name": "ipython",
    "version": 3
   },
   "file_extension": ".py",
   "mimetype": "text/x-python",
   "name": "python",
   "nbconvert_exporter": "python",
   "pygments_lexer": "ipython3",
   "version": "3.10.4"
  },
  "orig_nbformat": 4,
  "vscode": {
   "interpreter": {
    "hash": "aee8b7b246df8f9039afb4144a1f6fd8d2ca17a180786b69acc140d282b71a49"
   }
  }
 },
 "nbformat": 4,
 "nbformat_minor": 2
}
